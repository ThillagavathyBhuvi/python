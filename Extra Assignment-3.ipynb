{
 "cells": [
  {
   "cell_type": "code",
   "execution_count": 1,
   "id": "5378f29a",
   "metadata": {},
   "outputs": [
    {
     "name": "stdout",
     "output_type": "stream",
     "text": [
      "value: 10\n",
      "CORRECT\n"
     ]
    }
   ],
   "source": [
    "# Print \"CORRECT\" if i==10\n",
    "\n",
    "i=10\n",
    "if (i==10):\n",
    "    print(\"value:\",i)\n",
    "    print(\"CORRECT\")"
   ]
  },
  {
   "cell_type": "code",
   "execution_count": 4,
   "id": "651adda2",
   "metadata": {},
   "outputs": [
    {
     "name": "stdout",
     "output_type": "stream",
     "text": [
      "Enter the password:HOPE@123\n",
      "Your password is CORRECT\n"
     ]
    }
   ],
   "source": [
    "# Check the password, using if and else:\n",
    "\n",
    "Num=input(\"Enter the password:\")\n",
    "if (Num==\"HOPE@123\"):\n",
    "    print(\"Your password is CORRECT\")"
   ]
  },
  {
   "cell_type": "code",
   "execution_count": 6,
   "id": "63f879b3",
   "metadata": {},
   "outputs": [
    {
     "name": "stdout",
     "output_type": "stream",
     "text": [
      "Enter the Age:20\n",
      "Adult\n"
     ]
    }
   ],
   "source": [
    "# category the people by their age like children,adult,citizen,senior citizen\n",
    "\n",
    "Age=int(input(\"Enter the Age:\"))\n",
    "if (Age<18):\n",
    "    print(\"children\")\n",
    "elif (Age<35):\n",
    "    print(\"Adult\")\n",
    "elif (Age<59):\n",
    "    print(\"citizen\")\n",
    "else:\n",
    "    print(\"senior citizen\")"
   ]
  },
  {
   "cell_type": "code",
   "execution_count": 7,
   "id": "fe10c9b6",
   "metadata": {},
   "outputs": [
    {
     "name": "stdout",
     "output_type": "stream",
     "text": [
      "Enter the number:1\n",
      "No is positive\n"
     ]
    }
   ],
   "source": [
    "# Find whether the given number is positive or negative\n",
    "\n",
    "num=int(input(\"Enter the number:\"))\n",
    "if (num>0):\n",
    "    print(\"No is positive\")\n",
    "else:\n",
    "    print(\"No is Negative\")"
   ]
  },
  {
   "cell_type": "code",
   "execution_count": 9,
   "id": "56727e39",
   "metadata": {},
   "outputs": [
    {
     "name": "stdout",
     "output_type": "stream",
     "text": [
      "Enter the number:22\n",
      "No is not divisible by 5\n"
     ]
    }
   ],
   "source": [
    "# Check whether the given number is divisible by 5\n",
    "\n",
    "num=int(input(\"Enter the number:\"))\n",
    "if (num%5==0):\n",
    "    print(\"No is divisible by 5\")\n",
    "else:\n",
    "    print(\"No is not divisible by 5\")"
   ]
  }
 ],
 "metadata": {
  "kernelspec": {
   "display_name": "Python 3 (ipykernel)",
   "language": "python",
   "name": "python3"
  },
  "language_info": {
   "codemirror_mode": {
    "name": "ipython",
    "version": 3
   },
   "file_extension": ".py",
   "mimetype": "text/x-python",
   "name": "python",
   "nbconvert_exporter": "python",
   "pygments_lexer": "ipython3",
   "version": "3.11.5"
  }
 },
 "nbformat": 4,
 "nbformat_minor": 5
}
