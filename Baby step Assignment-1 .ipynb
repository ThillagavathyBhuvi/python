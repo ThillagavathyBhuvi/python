{
 "cells": [
  {
   "cell_type": "code",
   "execution_count": 1,
   "id": "93873039",
   "metadata": {},
   "outputs": [
    {
     "name": "stdout",
     "output_type": "stream",
     "text": [
      "Welcome to Assignment-1\n"
     ]
    }
   ],
   "source": [
    "print(\"Welcome to Assignment-1\")"
   ]
  },
  {
   "cell_type": "code",
   "execution_count": 4,
   "id": "26a4a7d3",
   "metadata": {},
   "outputs": [
    {
     "name": "stdout",
     "output_type": "stream",
     "text": [
      "num1=10\n",
      "num2=30\n",
      "Add= 40\n"
     ]
    }
   ],
   "source": [
    "num1=10\n",
    "print(\"num1=10\")\n",
    "num2=30\n",
    "print(\"num2=30\")\n",
    "Add=num1+num2\n",
    "print(\"Add=\",Add)"
   ]
  },
  {
   "cell_type": "code",
   "execution_count": 5,
   "id": "12b5e4fa",
   "metadata": {},
   "outputs": [
    {
     "name": "stdout",
     "output_type": "stream",
     "text": [
      "Enter the BMI Index:34\n",
      "Very overweight\n"
     ]
    }
   ],
   "source": [
    "num=int(input(\"Enter the BMI Index:\"))\n",
    "if(num<18.5):\n",
    "    print(\"Underweight\")\n",
    "elif(num<=24.9):\n",
    "    print(\"Normal\")\n",
    "elif(num<=29.0):\n",
    "    print(\"Overweight\")\n",
    "elif(num<=40.0):\n",
    "    print(\"Very overweight\")\n",
    "elif(num>40.0):\n",
    "    print(\"Extreme Obese\")\n",
    "else:\n",
    "    print(\"Error\")\n",
    "    "
   ]
  },
  {
   "cell_type": "code",
   "execution_count": null,
   "id": "ae59217b",
   "metadata": {},
   "outputs": [],
   "source": []
  }
 ],
 "metadata": {
  "kernelspec": {
   "display_name": "Python 3 (ipykernel)",
   "language": "python",
   "name": "python3"
  },
  "language_info": {
   "codemirror_mode": {
    "name": "ipython",
    "version": 3
   },
   "file_extension": ".py",
   "mimetype": "text/x-python",
   "name": "python",
   "nbconvert_exporter": "python",
   "pygments_lexer": "ipython3",
   "version": "3.11.5"
  }
 },
 "nbformat": 4,
 "nbformat_minor": 5
}
