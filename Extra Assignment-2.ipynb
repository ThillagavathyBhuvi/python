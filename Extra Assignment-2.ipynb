{
 "cells": [
  {
   "cell_type": "code",
   "execution_count": null,
   "id": "e2d0e956",
   "metadata": {},
   "outputs": [],
   "source": [
    "# Print 0 to 20 using Range"
   ]
  },
  {
   "cell_type": "code",
   "execution_count": 1,
   "id": "b622b736",
   "metadata": {},
   "outputs": [
    {
     "name": "stdout",
     "output_type": "stream",
     "text": [
      "0\n",
      "1\n",
      "2\n",
      "3\n",
      "4\n",
      "5\n",
      "6\n",
      "7\n",
      "8\n",
      "9\n",
      "10\n",
      "11\n",
      "12\n",
      "13\n",
      "14\n",
      "15\n",
      "16\n",
      "17\n",
      "18\n",
      "19\n"
     ]
    }
   ],
   "source": [
    "for temp in range(0,20):\n",
    "    print(temp)"
   ]
  },
  {
   "cell_type": "code",
   "execution_count": null,
   "id": "961a0e75",
   "metadata": {},
   "outputs": [],
   "source": [
    "# Print range 10 to 20"
   ]
  },
  {
   "cell_type": "code",
   "execution_count": 1,
   "id": "ffb98c5c",
   "metadata": {},
   "outputs": [
    {
     "name": "stdout",
     "output_type": "stream",
     "text": [
      "10\n",
      "11\n",
      "12\n",
      "13\n",
      "14\n",
      "15\n",
      "16\n",
      "17\n",
      "18\n",
      "19\n"
     ]
    }
   ],
   "source": [
    "for temp1 in range(10,20):\n",
    "    print(temp1)\n"
   ]
  },
  {
   "cell_type": "code",
   "execution_count": 4,
   "id": "7b350878",
   "metadata": {},
   "outputs": [
    {
     "name": "stdout",
     "output_type": "stream",
     "text": [
      "Number of items in the list2: 7\n"
     ]
    }
   ],
   "source": [
    "numlist=[10,20,14,55,43,87,76]\n",
    "numlist1=len(numlist)\n",
    "print(\"Number of items in the list2:\",numlist1)"
   ]
  },
  {
   "cell_type": "code",
   "execution_count": 2,
   "id": "ae8d9b4b",
   "metadata": {},
   "outputs": [
    {
     "name": "stdout",
     "output_type": "stream",
     "text": [
      "19 is odd\n",
      "25 is odd\n",
      "1 is odd\n"
     ]
    }
   ],
   "source": [
    "# Print odd numbers in the list:\n",
    "\n",
    "list=(20,10,16,19,25,1,276,188)\n",
    "for temp in list:\n",
    "    if(temp%2==1):\n",
    "        print(temp,\"is odd\")\n"
   ]
  },
  {
   "cell_type": "code",
   "execution_count": 4,
   "id": "7b9d43fc",
   "metadata": {},
   "outputs": [
    {
     "name": "stdout",
     "output_type": "stream",
     "text": [
      "20 is even\n",
      "10 is even\n",
      "16 is even\n",
      "276 is even\n",
      "188 is even\n"
     ]
    }
   ],
   "source": [
    "# Print Even numbers in the list:\n",
    "\n",
    "list=(20,10,16,19,25,1,276,188)\n",
    "for temp in list:\n",
    "    if(temp%2==0):\n",
    "        print(temp,\"is even\")"
   ]
  },
  {
   "cell_type": "code",
   "execution_count": 1,
   "id": "e0e19acc",
   "metadata": {},
   "outputs": [
    {
     "name": "stdout",
     "output_type": "stream",
     "text": [
      "(1, 'Welcome', 2, 'Hope')\n"
     ]
    }
   ],
   "source": [
    "tupnum=(1,'Welcome',2,'Hope')\n",
    "print(tupnum)"
   ]
  },
  {
   "cell_type": "code",
   "execution_count": 2,
   "id": "1b3f7f8f",
   "metadata": {},
   "outputs": [
    {
     "name": "stdout",
     "output_type": "stream",
     "text": [
      "((0, 1, 2, 3), ('Python', 'Hope'))\n"
     ]
    }
   ],
   "source": [
    "tupnum1=(0,1,2,3)\n",
    "tupnum2=('Python','Hope')\n",
    "tupnum3=(tupnum1,tupnum2)\n",
    "print(tupnum3)"
   ]
  },
  {
   "cell_type": "code",
   "execution_count": null,
   "id": "1037c544",
   "metadata": {},
   "outputs": [],
   "source": []
  }
 ],
 "metadata": {
  "kernelspec": {
   "display_name": "Python 3 (ipykernel)",
   "language": "python",
   "name": "python3"
  },
  "language_info": {
   "codemirror_mode": {
    "name": "ipython",
    "version": 3
   },
   "file_extension": ".py",
   "mimetype": "text/x-python",
   "name": "python",
   "nbconvert_exporter": "python",
   "pygments_lexer": "ipython3",
   "version": "3.11.5"
  }
 },
 "nbformat": 4,
 "nbformat_minor": 5
}
